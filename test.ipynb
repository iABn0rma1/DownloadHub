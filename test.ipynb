{
 "cells": [
  {
   "cell_type": "code",
   "execution_count": null,
   "metadata": {},
   "outputs": [],
   "source": [
    "import os\n",
    "import requests\n",
    "from PIL import Image\n",
    "from io import BytesIO"
   ]
  },
  {
   "cell_type": "code",
   "execution_count": 2,
   "metadata": {},
   "outputs": [],
   "source": [
    "def download_asset(url, output_path):\n",
    "    \"\"\"\n",
    "    Download an asset (image or video) from the provided URL.\n",
    "    \n",
    "    Parameters:\n",
    "        url (str): The URL of the asset.\n",
    "        output_path (str): The path to save the downloaded asset.\n",
    "    \"\"\"\n",
    "    # Get the file extension from the URL\n",
    "    file_extension = os.path.splitext(url)[-1].lower()\n",
    "\n",
    "    try:\n",
    "        # Download and save the asset based on its type\n",
    "        if file_extension in ['.jpg', '.jpeg', '.png', '.gif', '.bmp']:\n",
    "            # Download the image\n",
    "            response = requests.get(url)\n",
    "            response.raise_for_status()  # Raise an error for bad responses\n",
    "            \n",
    "            # Open the image with PIL\n",
    "            img = Image.open(BytesIO(response.content))\n",
    "            img.save(output_path)\n",
    "            print(f\"Image saved to {output_path}\")\n",
    "\n",
    "        elif file_extension in ['.mp4', '.mov', '.avi']:\n",
    "            # Download the video\n",
    "            response = requests.get(url, stream=True)\n",
    "            response.raise_for_status()  # Raise an error for bad responses\n",
    "            \n",
    "            # Write the video to a file\n",
    "            with open(output_path, 'wb') as f:\n",
    "                for chunk in response.iter_content(chunk_size=8192):\n",
    "                    f.write(chunk)\n",
    "            print(f\"Video saved to {output_path}\")\n",
    "\n",
    "        else:\n",
    "            print(\"Unsupported file type. Please provide an image or video URL.\")\n",
    "\n",
    "    except requests.RequestException as e:\n",
    "        print(f\"Error downloading the asset: {e}\")\n",
    "    except Exception as e:\n",
    "        print(f\"Error processing the asset: {e}\")"
   ]
  },
  {
   "cell_type": "code",
   "execution_count": 3,
   "metadata": {},
   "outputs": [
    {
     "name": "stdout",
     "output_type": "stream",
     "text": [
      "Image saved to downloaded_image.jpg\n",
      "Video saved to downloaded_video.mp4\n"
     ]
    }
   ],
   "source": [
    "# Example usage\n",
    "image_url = 'https://r4.wallpaperflare.com/wallpaper/352/341/267/4k-detroit-become-human-screenshot-e3-2017-wallpaper-58667d3870301cc880fc814eb812647a.jpg'\n",
    "video_url = 'https://file-examples.com/storage/fe36b23e6a66fc0679c1f86/2017/04/file_example_MP4_480_1_5MG.mp4'\n",
    "\n",
    "# Download an image\n",
    "download_asset(image_url, 'downloaded_image.jpg')\n",
    "\n",
    "# Download a video\n",
    "download_asset(video_url, 'downloaded_video.mp4')\n"
   ]
  },
  {
   "cell_type": "code",
   "execution_count": null,
   "metadata": {},
   "outputs": [],
   "source": []
  }
 ],
 "metadata": {
  "kernelspec": {
   "display_name": "env",
   "language": "python",
   "name": "python3"
  },
  "language_info": {
   "codemirror_mode": {
    "name": "ipython",
    "version": 3
   },
   "file_extension": ".py",
   "mimetype": "text/x-python",
   "name": "python",
   "nbconvert_exporter": "python",
   "pygments_lexer": "ipython3",
   "version": "3.12.6"
  }
 },
 "nbformat": 4,
 "nbformat_minor": 2
}
